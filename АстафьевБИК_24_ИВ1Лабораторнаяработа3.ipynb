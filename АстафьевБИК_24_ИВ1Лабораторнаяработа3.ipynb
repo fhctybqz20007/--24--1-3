{
  "nbformat": 4,
  "nbformat_minor": 0,
  "metadata": {
    "colab": {
      "provenance": [],
      "authorship_tag": "ABX9TyOs7wLvORSrPAucPWiv20N+",
      "include_colab_link": true
    },
    "kernelspec": {
      "name": "python3",
      "display_name": "Python 3"
    },
    "language_info": {
      "name": "python"
    }
  },
  "cells": [
    {
      "cell_type": "markdown",
      "metadata": {
        "id": "view-in-github",
        "colab_type": "text"
      },
      "source": [
        "<a href=\"https://colab.research.google.com/github/fhctybqz20007/--24--1-3/blob/main/%D0%90%D1%81%D1%82%D0%B0%D1%84%D1%8C%D0%B5%D0%B2%D0%91%D0%98%D0%9A_24_%D0%98%D0%921%D0%9B%D0%B0%D0%B1%D0%BE%D1%80%D0%B0%D1%82%D0%BE%D1%80%D0%BD%D0%B0%D1%8F%D1%80%D0%B0%D0%B1%D0%BE%D1%82%D0%B03.ipynb\" target=\"_parent\"><img src=\"https://colab.research.google.com/assets/colab-badge.svg\" alt=\"Open In Colab\"/></a>"
      ]
    },
    {
      "cell_type": "code",
      "execution_count": null,
      "metadata": {
        "colab": {
          "base_uri": "https://localhost:8080/"
        },
        "id": "0zoiaqMCATz1",
        "outputId": "53ac24b9-d938-49ab-bdf8-7aad8a14f122"
      },
      "outputs": [
        {
          "output_type": "stream",
          "name": "stdout",
          "text": [
            "3 4 4 3\n"
          ]
        }
      ],
      "source": [
        "a = ('абв,абвг,вгбд,абд')\n",
        "s = a.split (',')\n",
        "print ((len(s[0])),len(s[1]),len(s[-2]),len(s[-1]))"
      ]
    },
    {
      "cell_type": "code",
      "source": [
        "a = input ()\n",
        "s = a.split(',')\n",
        "print (s)"
      ],
      "metadata": {
        "colab": {
          "base_uri": "https://localhost:8080/"
        },
        "id": "fb--ol83N4sC",
        "outputId": "dc84c475-c8d9-463a-84bd-4bb168f2ae07"
      },
      "execution_count": null,
      "outputs": [
        {
          "output_type": "stream",
          "name": "stdout",
          "text": [
            "hgg,dgd,dfgf\n",
            "['hgg', 'dgd', 'dfgf']\n"
          ]
        }
      ]
    }
  ]
}