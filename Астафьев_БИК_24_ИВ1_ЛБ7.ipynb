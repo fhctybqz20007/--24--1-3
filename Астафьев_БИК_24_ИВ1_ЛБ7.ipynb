{
  "nbformat": 4,
  "nbformat_minor": 0,
  "metadata": {
    "colab": {
      "provenance": [],
      "authorship_tag": "ABX9TyNVZzhSi8/Qw17gySJ8nSrn",
      "include_colab_link": true
    },
    "kernelspec": {
      "name": "python3",
      "display_name": "Python 3"
    },
    "language_info": {
      "name": "python"
    }
  },
  "cells": [
    {
      "cell_type": "markdown",
      "metadata": {
        "id": "view-in-github",
        "colab_type": "text"
      },
      "source": [
        "<a href=\"https://colab.research.google.com/github/fhctybqz20007/--24--1-3/blob/main/%D0%90%D1%81%D1%82%D0%B0%D1%84%D1%8C%D0%B5%D0%B2_%D0%91%D0%98%D0%9A_24_%D0%98%D0%921_%D0%9B%D0%917.ipynb\" target=\"_parent\"><img src=\"https://colab.research.google.com/assets/colab-badge.svg\" alt=\"Open In Colab\"/></a>"
      ]
    },
    {
      "cell_type": "markdown",
      "source": [
        "Задача 1"
      ],
      "metadata": {
        "id": "mowrVZSsMFgv"
      }
    },
    {
      "cell_type": "code",
      "execution_count": 13,
      "metadata": {
        "colab": {
          "base_uri": "https://localhost:8080/"
        },
        "id": "7g4d_UeXFO8H",
        "outputId": "c7ea500d-3550-4a85-bf67-15e7d239eafe"
      },
      "outputs": [
        {
          "output_type": "stream",
          "name": "stdout",
          "text": [
            "Введите кол-во строк, столбцов матрицы: 2\n",
            "[[1, 2], [3, 4]]\n",
            "-2\n"
          ]
        }
      ],
      "source": [
        "inp = int(input(\"Введите кол-во строк, столбцов матрицы: \"))\n",
        "matrix1 = []\n",
        "matrix2 = []\n",
        "a = 0\n",
        "for i in range(inp):\n",
        "  for f in range(inp):\n",
        "    a = a + 1\n",
        "    matrix2.append(a)\n",
        "  matrix1.append(matrix2)\n",
        "  matrix2 = []\n",
        "print(matrix1)\n",
        "def determinant(matrix: list[list[int]]) -> int:\n",
        "    det = 0\n",
        "    match ln := len(matrix):\n",
        "        case 1:\n",
        "            return matrix[0][0]\n",
        "        case 2:\n",
        "            return matrix[0][0] * matrix[1][1] - matrix[0][1] * matrix[1][0]\n",
        "        case _:\n",
        "            for k in range(ln):\n",
        "                det += matrix[0][k] * (-1) ** k * determinant([matrix[i][:k] + matrix[i][k+1:] for i in range(1,ln)])\n",
        "    return det\n",
        "\n",
        "\n",
        "print(determinant(matrix1))"
      ]
    },
    {
      "cell_type": "markdown",
      "source": [
        "Задача 2"
      ],
      "metadata": {
        "id": "B0aPps0iMK_I"
      }
    },
    {
      "cell_type": "code",
      "source": [
        "inp = int(input(\"Введите кол-во строк, столбцов матрицы: \"))\n",
        "matrix1 = []\n",
        "matrix2 = []\n",
        "a = inp**2\n",
        "for i in range(inp):\n",
        "  for f in range(inp):\n",
        "    matrix2.append(a)\n",
        "    a = a - 1\n",
        "  matrix1.append(matrix2)\n",
        "  matrix2 = []\n",
        "print(matrix1)\n",
        "def determinant(matrix: list[list[int]]) -> int:\n",
        "    det = 0\n",
        "    match ln := len(matrix):\n",
        "        case 1:\n",
        "            return matrix[0][0]\n",
        "        case 2:\n",
        "            return matrix[0][0] * matrix[1][1] - matrix[0][1] * matrix[1][0]\n",
        "        case _:\n",
        "            for k in range(ln):\n",
        "                det += matrix[0][k] * (-1) ** k * determinant([matrix[i][:k] + matrix[i][k+1:] for i in range(1,ln)])\n",
        "    return det\n",
        "\n",
        "\n",
        "print(determinant(matrix1))"
      ],
      "metadata": {
        "colab": {
          "base_uri": "https://localhost:8080/"
        },
        "id": "kwCB0yf3MM6_",
        "outputId": "7b4f4f78-f1e0-4b21-9ea9-3622c2d02947"
      },
      "execution_count": 14,
      "outputs": [
        {
          "output_type": "stream",
          "name": "stdout",
          "text": [
            "Введите кол-во строк, столбцов матрицы: 3\n",
            "[[9, 8, 7], [6, 5, 4], [3, 2, 1]]\n",
            "0\n"
          ]
        }
      ]
    }
  ]
}