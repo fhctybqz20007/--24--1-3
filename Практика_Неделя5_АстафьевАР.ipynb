{
  "nbformat": 4,
  "nbformat_minor": 0,
  "metadata": {
    "colab": {
      "provenance": [],
      "authorship_tag": "ABX9TyO3DSjdHgbC6YjrAX4U1QlY",
      "include_colab_link": true
    },
    "kernelspec": {
      "name": "python3",
      "display_name": "Python 3"
    },
    "language_info": {
      "name": "python"
    }
  },
  "cells": [
    {
      "cell_type": "markdown",
      "metadata": {
        "id": "view-in-github",
        "colab_type": "text"
      },
      "source": [
        "<a href=\"https://colab.research.google.com/github/fhctybqz20007/--24--1-3/blob/main/%D0%9F%D1%80%D0%B0%D0%BA%D1%82%D0%B8%D0%BA%D0%B0_%D0%9D%D0%B5%D0%B4%D0%B5%D0%BB%D1%8F5_%D0%90%D1%81%D1%82%D0%B0%D1%84%D1%8C%D0%B5%D0%B2%D0%90%D0%A0.ipynb\" target=\"_parent\"><img src=\"https://colab.research.google.com/assets/colab-badge.svg\" alt=\"Open In Colab\"/></a>"
      ]
    },
    {
      "cell_type": "code",
      "execution_count": 7,
      "metadata": {
        "colab": {
          "base_uri": "https://localhost:8080/"
        },
        "id": "gi1UwtGyMKpu",
        "outputId": "b242a4b3-20ba-4e97-d25e-ff6d78234d9b"
      },
      "outputs": [
        {
          "output_type": "stream",
          "name": "stdout",
          "text": [
            "3\n",
            "3\n",
            "4\n",
            "4\n",
            "2\n",
            "0\n",
            "3.0\n"
          ]
        }
      ],
      "source": [
        "el_sum=0\n",
        "el_kol=0\n",
        "a=int(input())\n",
        "while a!= 0:\n",
        "  el_sum += a\n",
        "  el_kol += 1\n",
        "  if a > 2 and a < 5:\n",
        "    print (a)\n",
        "  a=int(input())\n",
        "print (el_sum/el_kol)\n"
      ]
    }
  ]
}